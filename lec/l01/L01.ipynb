{
 "cells": [
  {
   "cell_type": "markdown",
   "metadata": {},
   "source": [
    "<br><br><br>\n",
    "\n",
    "## CS585: Natural Language Processing\n",
    "### Overview + Finite State Automata\n",
    "<br><br>\n",
    "### Illinois Institute of Technology  \n",
    "### Aron Culotta\n",
    "\n",
    "<br><br><br>\n"
   ]
  },
  {
   "cell_type": "markdown",
   "metadata": {
    "slideshow": {
     "slide_type": "-"
    }
   },
   "source": [
    "<br><br><br>\n",
    "\n",
    "## What is Natural Language?\n",
    "\n",
    "<br><br><br><br><br><br>"
   ]
  },
  {
   "cell_type": "markdown",
   "metadata": {},
   "source": [
    "<br><br><br>\n",
    "## Natural vs. Unnatural (Formal) Languages\n",
    "\n",
    "**Natural**\n",
    "- Emerges from intelligent beings\n",
    "- We **discover** the grammar.\n",
    "- Full of ambiguity\n",
    "- English, Spanish, Dolphin Language?\n",
    "\n",
    "**Formal**\n",
    "- Defined by humans\n",
    "- We **prescribe** the grammar.\n",
    "- Designed to **remove** ambiguity\n",
    "- Python, math, ...\n",
    "<br><br><br><br><br><br>"
   ]
  },
  {
   "cell_type": "markdown",
   "metadata": {},
   "source": [
    "## NLP Examples\n",
    "\n",
    "![figs/watson.jpg](figs/watson.jpg)\n",
    "<br><br><br><br><br><br>\n",
    "\n",
    "![figs/siri.png](figs/siri.png)\n",
    "<br><br><br><br><br><br>\n",
    "\n",
    "![figs/translate.jpg](figs/translate.jpg)\n",
    "<br><br><br><br><br><br>\n",
    "\n",
    "![figs/echo.jpg](figs/echo.jpg)\n",
    "<br><br><br><br><br><br>\n",
    "\n",
    "![figs/her.jpg](figs/her.jpg)"
   ]
  },
  {
   "cell_type": "code",
   "execution_count": 31,
   "metadata": {
    "collapsed": false
   },
   "outputs": [
    {
     "data": {
      "text/html": [
       "<video width=\"600\" height=\"400\" controls>\n",
       "  <source src=\"figs/dave.mp4\" type=\"video/mp4\">\n",
       "</video>\n",
       "<br><br><br><br><br><br><br><br><br><br><br><br>"
      ],
      "text/plain": [
       "<IPython.core.display.HTML object>"
      ]
     },
     "metadata": {},
     "output_type": "display_data"
    }
   ],
   "source": [
    "%%HTML\n",
    "<video width=\"600\" height=\"400\" controls>\n",
    "  <source src=\"figs/dave.mp4\" type=\"video/mp4\">\n",
    "</video>\n",
    "<br><br><br><br><br><br><br><br><br><br><br><br>"
   ]
  },
  {
   "cell_type": "markdown",
   "metadata": {},
   "source": [
    "\n",
    "<br><br><br><br><br><br>\n",
    "\n",
    "### Natural Language Processing = Linguistics + Logic + Machine Learning\n",
    "\n",
    "Each has a long history...\n",
    "\n",
    "<br><br><br><br><br><br>"
   ]
  },
  {
   "cell_type": "markdown",
   "metadata": {},
   "source": [
    "\n",
    "\n",
    "## NLP History\n",
    "\n",
    "- Dates back to first days of computing (Turing)\n",
    "- Combines linguistics, formal logic, and statistics\n",
    "<br><br><br><br><br><br>"
   ]
  },
  {
   "cell_type": "markdown",
   "metadata": {},
   "source": [
    "## NLP History\n",
    "### 1940s-1950s\n",
    "\n",
    "**Logic**\n",
    "- automaton (Turing)\n",
    "- Context-free grammars (Chomsky)\n",
    "\n",
    "**Statistics**\n",
    "- McCulloch Pits neuron (perceptron)\n",
    "- Noisy channel model (Shannon)\n",
    "\n",
    "### Turing test (Alan Turing, 1950)\n",
    "\n",
    "\n",
    "Q: Please write me a sonnet on the topic of the Forth Bridge.  \n",
    "A: Count me out on this one. I never could write poetry  \n",
    "\n",
    "\n",
    "Q: Add 34957 to 70764  \n",
    "A: (Pause about 30 seconds and then give answer as) 105621.\n",
    "\n",
    "<br><br><br><br>"
   ]
  },
  {
   "cell_type": "markdown",
   "metadata": {},
   "source": [
    "## NLP History\n",
    "\n",
    "### 1957-1970\n",
    "\n",
    "**Logic**\n",
    "- Theorem proving (Newell & Simon) **[n.b. Herb Simon was chair of PolySci dep't at IIT from '42-'49]**\n",
    "- Logical inference\n",
    "\n",
    "**Statistics**\n",
    "- Neural nets\n",
    "- Bayesian statistics (e.g., identify author of text)\n",
    "\n",
    "\n",
    "#### ELIZA (1964, Weizenbaum)\n",
    "\n",
    "User: You are like my father in some ways.  \n",
    "ELIZA: WHAT RESEMBLANCE DO YOU SEE  \n",
    "User: You are not very aggressive but I think you don’t want me to notice that.  \n",
    "ELIZA: WHAT MAKES YOU THINK I AM NOT AGGRESSIVE  \n",
    "User: You don’t argue with me.  \n",
    "ELIZA: WHY DO YOU THINK I DON’T ARGUE WITH YOU?  \n",
    "User: You are afraid of me.  \n",
    "ELIZA: DOES IT PLEASE YOU TO BELIEVE I AM AFRAID OF YOU\n",
    "\n",
    "<br><br>\n",
    "\n",
    "Online example: <http://www.masswerk.at/elizabot/>\n",
    "<br><br><br><br>"
   ]
  },
  {
   "cell_type": "markdown",
   "metadata": {},
   "source": [
    "## NLP History\n",
    "### 1970-1983\n",
    "\n",
    "**Logic**\n",
    "  - Winograd's SHRDLU\n",
    "\n",
    "**Statistics**\n",
    "  - speech recognition (AT&T Bell Labs, IBM)\n",
    "  - Hidden Markov Models\n",
    "\n",
    "![figs/shrdlu.png](figs/shrdlu.png)\n"
   ]
  },
  {
   "cell_type": "markdown",
   "metadata": {},
   "source": [
    "## NLP History\n",
    "\n",
    "### 1983-1993\n",
    "- Return to finite state models\n",
    "- Empirical approach: (data driven) IBM speech recognition\n",
    "\n",
    "### 1994-1999\n",
    "- Empirical approach widespread\n",
    "- Bayesian statistics\n",
    "- graphical models\n",
    "\n",
    "### 2000s\n",
    "- Combinations of logical and empirical approaches\n",
    "  - Markov logic networks, etc.\n",
    "- Deep learning\n",
    "  - revival of neural nets from 1960s\n",
    "<br><br><br><br><br><br>"
   ]
  },
  {
   "cell_type": "markdown",
   "metadata": {},
   "source": [
    "## Linguistics\n",
    "\n",
    "- **Phonetics and Phonology:** The study of linguistic sounds.\n",
    "  - /fəˈnediks/\n",
    "\n",
    "<br><br><br><br>\n",
    "\n",
    "- **Morphology:** The study of the meaningful components of words.\n",
    "\n",
    "![figs/morph.png](figs/morph.png)\n",
    "\n",
    "<br><br><br><br>\n",
    "\n",
    "- **Syntax:** The study of the structural relationships between words.\n",
    "  -  \"*I’m I do, sorry that afraid Dave I’m can’t.*\"\n",
    "  \n",
    "![figs/dog.png](figs/dog.png)\n",
    "\n",
    "<br><br><br><br>\n",
    "\n",
    "- **Semantics:** The study of meaning.\n",
    "\n",
    "![figs/green.png](figs/green.png)\n",
    "\n",
    "\n",
    "<br><br><br><br>\n",
    "- **Pragmatics:** The study of how language is used to accomplish goals.\n",
    "  - \"*Honey, do you think it's cold in here?*\"\n",
    "\n",
    "<br><br><br><br>\n",
    "\n",
    "- **Discourse:** The study of linguistic units larger than a single utterance.\n",
    "  - **Dave**: Open the pod bay doors, HAL.\n",
    "  - **HAL**: I'm sorry Dave, I can't do **<font color=blue>that</font>.**\n",
    "\n"
   ]
  },
  {
   "cell_type": "markdown",
   "metadata": {},
   "source": [
    "<br><br><br><br>\n",
    "\n",
    "## Ambiguity: The Good and the Bad\n",
    "\n",
    "- Makes language fun and interesting for humans, but makes language difficult for computers.\n",
    "- The central problem to NLP is **resolving ambiguity**.\n",
    "\n",
    "\n",
    "- E.g., \"*I made her duck*.\"\n",
    "\n",
    "<br><br><br><br><br><br><br><br>\n",
    "\n",
    "\n",
    "\n",
    "1. I cooked waterfowl for her.\n",
    "2. I cooked waterfowl belonging to her.\n",
    "3. I created the (plaster?) duck she owns.\n",
    "4. I caused her to quickly lower her head or body.\n",
    "5. I waved my magic wand and turned her into undifferentiated waterfowl.\n",
    "\n",
    "\n",
    "- Syntactic ambiguity (1 vs 4): \"duck\" $\\rightarrow$ verb or noun?  &nbsp;&nbsp;&nbsp;&nbsp;&nbsp;&nbsp; **part-of-speech tagging, syntactic parsing**\n",
    "- Semantic ambiguity (1 vs 3): \"make\" $\\rightarrow$ *create* or *cook*? &nbsp;&nbsp; **word sense disambiguation**\n",
    "- Phonetic ambiguity: \"I\" or \"eye\"; \"made\" or \"maid\"?  &nbsp;&nbsp;&nbsp;&nbsp;&nbsp;&nbsp;&nbsp;&nbsp;&nbsp; **speech recognition **"
   ]
  },
  {
   "cell_type": "markdown",
   "metadata": {},
   "source": [
    "<br><br><br>\n",
    "\n",
    "## Models & Algorithms\n",
    "\n",
    "- State machines\n",
    "- Rule systems\n",
    "- Logic\n",
    "- Probability\n",
    "- Dynamic programming\n",
    "- Machine Learning\n",
    "<br><br><br><br><br><br>"
   ]
  },
  {
   "cell_type": "markdown",
   "metadata": {},
   "source": [
    "## Diving right in with a simple example...\n",
    "## Sheep Language Processing\n",
    "\n",
    "\n",
    "![figs/wolf.jpg](figs/wolf.jpg)\n",
    "\n",
    "Is this string something a sheep would say?\n",
    "\n",
    "```\n",
    "baa!  \n",
    "baaa!  \n",
    "baaaa!  \n",
    "baaaaa!  \n",
    "baaaaaa!  \n",
    ".  \n",
    ".  \n",
    ".\n",
    "```\n",
    "**but not**\n",
    "\n",
    "```\n",
    "bark  \n",
    "woof  \n",
    "meow\n",
    ".\n",
    ".\n",
    ".\n",
    "```"
   ]
  },
  {
   "cell_type": "markdown",
   "metadata": {},
   "source": [
    "<br><br><br><br><br><br>\n",
    "\n",
    "#### Method 1: Regular Expressions"
   ]
  },
  {
   "cell_type": "code",
   "execution_count": 32,
   "metadata": {
    "collapsed": false
   },
   "outputs": [
    {
     "data": {
      "text/plain": [
       "True"
      ]
     },
     "execution_count": 32,
     "metadata": {},
     "output_type": "execute_result"
    }
   ],
   "source": [
    "import re\n",
    "\n",
    "def is_a_sheep(text):\n",
    "    if re.match('^baa+!$', text):\n",
    "        return True\n",
    "    else:\n",
    "        return False\n",
    "        \n",
    "is_a_sheep('baa!')"
   ]
  },
  {
   "cell_type": "code",
   "execution_count": 33,
   "metadata": {
    "collapsed": false
   },
   "outputs": [
    {
     "data": {
      "text/plain": [
       "True"
      ]
     },
     "execution_count": 33,
     "metadata": {},
     "output_type": "execute_result"
    }
   ],
   "source": [
    "is_a_sheep('baaaaaa!')"
   ]
  },
  {
   "cell_type": "code",
   "execution_count": 34,
   "metadata": {
    "collapsed": false
   },
   "outputs": [
    {
     "data": {
      "text/plain": [
       "False"
      ]
     },
     "execution_count": 34,
     "metadata": {},
     "output_type": "execute_result"
    }
   ],
   "source": [
    "is_a_sheep('ba!')"
   ]
  },
  {
   "cell_type": "code",
   "execution_count": 35,
   "metadata": {
    "collapsed": false
   },
   "outputs": [
    {
     "data": {
      "text/plain": [
       "False"
      ]
     },
     "execution_count": 35,
     "metadata": {},
     "output_type": "execute_result"
    }
   ],
   "source": [
    "is_a_sheep('baa')"
   ]
  },
  {
   "cell_type": "markdown",
   "metadata": {},
   "source": [
    "<br><br><br><br><br><br>\n",
    "\n",
    "#### Method 2: Finite State Automata"
   ]
  },
  {
   "cell_type": "markdown",
   "metadata": {},
   "source": [
    "<br><br><br><br><br><br>\n",
    "![figs/baa.png](figs/baa.png)"
   ]
  },
  {
   "cell_type": "markdown",
   "metadata": {},
   "source": [
    "![figs/transition.png](figs/transition.png)\n"
   ]
  },
  {
   "cell_type": "code",
   "execution_count": 37,
   "metadata": {
    "collapsed": false
   },
   "outputs": [
    {
     "data": {
      "text/plain": [
       "1"
      ]
     },
     "execution_count": 37,
     "metadata": {},
     "output_type": "execute_result"
    }
   ],
   "source": [
    "# Python dictionaries (hash tables)\n",
    "my_dict = {'a': 1, 'b': 2, 'c': 3}\n",
    "my_dict['a']"
   ]
  },
  {
   "cell_type": "code",
   "execution_count": 38,
   "metadata": {
    "collapsed": false
   },
   "outputs": [
    {
     "data": {
      "text/plain": [
       "dict_keys(['b', 'c', 'a'])"
      ]
     },
     "execution_count": 38,
     "metadata": {},
     "output_type": "execute_result"
    }
   ],
   "source": [
    "my_dict.keys()"
   ]
  },
  {
   "cell_type": "code",
   "execution_count": 39,
   "metadata": {
    "collapsed": false
   },
   "outputs": [
    {
     "data": {
      "text/plain": [
       "dict_values([2, 3, 1])"
      ]
     },
     "execution_count": 39,
     "metadata": {},
     "output_type": "execute_result"
    }
   ],
   "source": [
    "my_dict.values()"
   ]
  },
  {
   "cell_type": "code",
   "execution_count": 40,
   "metadata": {
    "collapsed": false
   },
   "outputs": [
    {
     "data": {
      "text/plain": [
       "dict_items([('b', 2), ('c', 3), ('a', 1)])"
      ]
     },
     "execution_count": 40,
     "metadata": {},
     "output_type": "execute_result"
    }
   ],
   "source": [
    "my_dict.items()"
   ]
  },
  {
   "cell_type": "code",
   "execution_count": 41,
   "metadata": {
    "collapsed": false
   },
   "outputs": [
    {
     "data": {
      "text/plain": [
       "[1, 2]"
      ]
     },
     "execution_count": 41,
     "metadata": {},
     "output_type": "execute_result"
    }
   ],
   "source": [
    "my_dict = {'a': [1,2], 'b': [3,4]}\n",
    "my_dict['a']"
   ]
  },
  {
   "cell_type": "code",
   "execution_count": 42,
   "metadata": {
    "collapsed": false
   },
   "outputs": [
    {
     "data": {
      "text/plain": [
       "{'b': 1}"
      ]
     },
     "execution_count": 42,
     "metadata": {},
     "output_type": "execute_result"
    }
   ],
   "source": [
    "# Representing transition function as a dictionary of dictionaries.\n",
    "transition0 = {'b': 1}\n",
    "transition1 = {'a': 2}\n",
    "transition2 = {'a': 3}\n",
    "transition3 = {'a': 3, '!': 4}\n",
    "transition4 = {}\n",
    "\n",
    "transitions = {0: transition0,\n",
    "               1: transition1,\n",
    "               2: transition2,\n",
    "               3: transition3,\n",
    "               4: transition4}\n",
    "\n",
    "transitions[0]"
   ]
  },
  {
   "cell_type": "code",
   "execution_count": 43,
   "metadata": {
    "collapsed": false
   },
   "outputs": [
    {
     "data": {
      "text/plain": [
       "1"
      ]
     },
     "execution_count": 43,
     "metadata": {},
     "output_type": "execute_result"
    }
   ],
   "source": [
    "transitions[0]['b']"
   ]
  },
  {
   "cell_type": "code",
   "execution_count": 44,
   "metadata": {
    "collapsed": false
   },
   "outputs": [
    {
     "ename": "KeyError",
     "evalue": "'a'",
     "output_type": "error",
     "traceback": [
      "\u001b[0;31m---------------------------------------------------------------------------\u001b[0m",
      "\u001b[0;31mKeyError\u001b[0m                                  Traceback (most recent call last)",
      "\u001b[0;32m<ipython-input-44-841ed2b2a10d>\u001b[0m in \u001b[0;36m<module>\u001b[0;34m()\u001b[0m\n\u001b[0;32m----> 1\u001b[0;31m \u001b[0mtransitions\u001b[0m\u001b[0;34m[\u001b[0m\u001b[0;36m0\u001b[0m\u001b[0;34m]\u001b[0m\u001b[0;34m[\u001b[0m\u001b[0;34m'a'\u001b[0m\u001b[0;34m]\u001b[0m\u001b[0;34m\u001b[0m\u001b[0m\n\u001b[0m",
      "\u001b[0;31mKeyError\u001b[0m: 'a'"
     ]
    }
   ],
   "source": [
    "transitions[0]['a']"
   ]
  },
  {
   "cell_type": "code",
   "execution_count": 45,
   "metadata": {
    "collapsed": false
   },
   "outputs": [
    {
     "data": {
      "text/plain": [
       "False"
      ]
     },
     "execution_count": 45,
     "metadata": {},
     "output_type": "execute_result"
    }
   ],
   "source": [
    "'a' in transitions[0]"
   ]
  },
  {
   "cell_type": "markdown",
   "metadata": {},
   "source": [
    "<br><br><br>\n",
    "## Finite State Automata, Formally\n",
    "\n",
    "- $Q$: a finite set of $N$ states $\\{q_0 \\ldots q_N\\}$\n",
    "- $\\Sigma:$ a finite input alphabet of symbols\n",
    "- $q_0$: the start state\n",
    "- $F$: the set of final states, $F \\subseteq Q$\n",
    "- $\\delta(q,i)$: the transition function  between states. $Q \\times \\Sigma \\rightarrow Q$\n",
    "  - Given a state $q \\in Q$ and an input symbol  $i \\in \\Sigma$, return a new state $q' \\in Q$.\n",
    "\n",
    "In the sheep example above:\n",
    "- $Q=\\{q_0, q_1, q_2, q_3, q_4\\}$\n",
    "- $\\Sigma = \\{a,b,!\\}$\n",
    "- $ F = \\{q_4\\}$\n",
    "- $\\delta(q,i)$ is the transition table above in Fig 2.12."
   ]
  },
  {
   "cell_type": "markdown",
   "metadata": {},
   "source": [
    "## Recognizing a string with an FSA\n",
    "\n",
    "![figs/tape.png](figs/tape.png)\n",
    "\n",
    "- Given an FSA and a string, read each symbol and transition among states according to $\\delta(q,i)$\n",
    "- If all symbols are read, and the machine ends in one of the final states $F$, then the string is **accepted.**\n",
    "- Else, the string is **rejected.**"
   ]
  },
  {
   "cell_type": "markdown",
   "metadata": {},
   "source": [
    "## What about undefined transitions?\n",
    "\n",
    "e.g., \"*baZ* \"\n",
    "\n",
    "<br><br><br><br>\n",
    "\n",
    "![figs/fail.png](figs/fail.png)\n",
    "\n"
   ]
  },
  {
   "cell_type": "markdown",
   "metadata": {},
   "source": [
    "## Formal Language\n",
    "\n",
    "- The regular expression and FSA above are equivalent ways of defining a **formal language.**\n",
    "\n",
    "**Formal Language:** a (possibly infinite) set of strings composed of symbols from a finite alphabet.\n",
    "\n",
    "E.g., for sheep:\n",
    "\n",
    "$$L(m) = \\{baa!, baaa!, baaaa!, baaaaa!, ...\\}$$\n",
    "\n",
    "<br><br>\n",
    "\n",
    "A key approach in NLP: Convert a natural language to a formal language that is \"close.\"\n",
    "<br><br><br><br><br><br>"
   ]
  },
  {
   "cell_type": "markdown",
   "metadata": {},
   "source": [
    "\n",
    "![figs/automata.png](figs/automata.png)"
   ]
  },
  {
   "cell_type": "markdown",
   "metadata": {},
   "source": [
    "## Regular Languages\n",
    "\n",
    "- Class of languages definable by a regular expression\n",
    "- Class of languages definable by a finite state automata.\n",
    "\n",
    "\n",
    "1. $\\emptyset$ is a regular language\n",
    "2. $\\forall a \\in \\Sigma \\cup \\epsilon, \\{a\\} $ is a regular language.\n",
    "3. If $L_1$ and $L_2$ are regular languages, then so are:\n",
    "   1. $L_1 \\cdot L_2 = \\{xy $ $  | $ $ x \\in L_1 , y \\in L_2\\}$ (**concatenation**)\n",
    "   2. $L_1 \\cup L_2$ (**union**)\n",
    "   3. $L_1^*$ (**Kleene closure**)\n",
    "   \n",
    "   \n",
    "E.g., if $L_1=\\{a,b\\}$ and $L_2 = \\{c,d\\}$:\n",
    "  - $L_1 \\cdot L_2 = \\{ac, ad, bc, bd\\}$\n",
    "  - $L_1 \\cup L_2 = \\{a, b, c, d\\}$\n",
    "  - $L_1^* = a^* \\cup b^*$\n",
    "  <br><br><br><br><br><br>"
   ]
  },
  {
   "cell_type": "markdown",
   "metadata": {},
   "source": [
    "## FSA for Words\n",
    "\n",
    "- E.g., represent the formal language of all valid expressions of dollar amounts.\n",
    "- Alphabet is now **words** instead of **letters**\n",
    "\n",
    "![figs/money.png](figs/money.png)\n",
    "\n",
    "<br><br><br><br>\n",
    "\n",
    "![figs/money2.png](figs/money2.png)\n",
    "\n",
    "<br><br><br><br>"
   ]
  },
  {
   "cell_type": "markdown",
   "metadata": {},
   "source": [
    "## Non-deterministic FSA\n",
    "\n",
    "![figs/nfsa.png](figs/nfsa.png)\n",
    "\n",
    "FSA for which the transition function is not **fully determined**\n",
    "\n",
    "- E.g., if see letter *a* in state $q_2$, can either go to $q_2$ **OR** $q_3$\n",
    "\n",
    "- NFSAs are often more convenient to define a language\n",
    "\n",
    "- **Note:** Every NFSA can be converted to an equivalent FSA (though, possibly with an exponential number of states)."
   ]
  },
  {
   "cell_type": "markdown",
   "metadata": {},
   "source": [
    "![figs/nfsa2.png](figs/nfsa2.png)"
   ]
  },
  {
   "cell_type": "markdown",
   "metadata": {},
   "source": [
    "## Dealing with ambiguity\n",
    "\n",
    "- **Backup:** Whenever we come to a choice point, we could put a marker to mark where we were in the input, and what state the automaton was in. Then if it turns out that we took the wrong choice, we could back up and try another path.\n",
    "  - E.g., depth-first and breadth-first search\n",
    "- **Look-ahead:** We could look ahead in the input to help us decide which\n",
    "path to take.\n",
    "- **Parallelism:** Whenever we come to a choice point, we could look at every alternative path in parallel.\n",
    "\n",
    "**State-space search is a key part of NLP algorithms**\n",
    "\n",
    "\"*I made her duck*.\"\n",
    "\n",
    "<br><br><br><br><br><br>"
   ]
  },
  {
   "cell_type": "markdown",
   "metadata": {},
   "source": [
    "**To the syllabus!**\n",
    "<https://github.com/iit-cs585/main>"
   ]
  },
  {
   "cell_type": "markdown",
   "metadata": {},
   "source": [
    "#### image sources\n",
    "\n",
    "- https://www.cs.colorado.edu/~martin/SLP/\n",
    "\n",
    "- https://www.washingtonpost.com/business/on-it/how-ibm-is-trying-to-commercialize-watson/2014/05/09/4f552506-d23c-11e3-937f-d3026234b51c_story.html\n",
    "\n",
    "- http://www.howtogeek.com/229308/26-actually-useful-things-you-can-do-with-siri/\n",
    "\n",
    "- http://mashable.com/2015/01/14/google-translate-word-lens/\n",
    "\n",
    "- https://www.youtube.com/watch?v=ng7Sti29S5k\n",
    "\n",
    "- http://www.kurzweilai.net/a-review-of-her-by-ray-kurzweil\n",
    "\n",
    "- https://www.youtube.com/watch?v=9W5Am-a_xWw\n",
    "\n",
    "- http://mosermichael.github.io/cstuff/all/blog/2015/02/05/nlp-revisited.html\n",
    "\n",
    "- http://all-about-linguistics.group.shef.ac.uk/branches-of-linguistics/morphology/what-is-morphology/\n",
    "\n",
    "- http://english.stackexchange.com/questions/294993/ambiguous-syntax-tree-and-phrase-structure-rules\n",
    "\n",
    "- https://en.wikipedia.org/wiki/Talk%3AColorless_green_ideas_sleep_furiously\n",
    "\n",
    "- http://www.salem-news.com/articles/september102009/oxycontin_wolf_9-10-09.php"
   ]
  },
  {
   "cell_type": "code",
   "execution_count": null,
   "metadata": {
    "collapsed": false,
    "raw_mimetype": "text/html"
   },
   "outputs": [],
   "source": [
    "# for custom notebook formatting.\n",
    "from IPython.core.display import HTML\n",
    "HTML(open('../custom.css').read())"
   ]
  }
 ],
 "metadata": {
  "celltoolbar": "Raw Cell Format",
  "kernelspec": {
   "display_name": "Python 3",
   "language": "python",
   "name": "python3"
  },
  "language_info": {
   "codemirror_mode": {
    "name": "ipython",
    "version": 3
   },
   "file_extension": ".py",
   "mimetype": "text/x-python",
   "name": "python",
   "nbconvert_exporter": "python",
   "pygments_lexer": "ipython3",
   "version": "3.4.3"
  }
 },
 "nbformat": 4,
 "nbformat_minor": 0
}
